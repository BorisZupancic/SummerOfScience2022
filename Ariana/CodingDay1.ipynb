{
 "cells": [
  {
   "cell_type": "markdown",
   "metadata": {},
   "source": [
    "# Foundation of coding\n",
    "Let's start with the foundation of coding! Termminology. In the following notebook we will be covering the following very important topics: package, variables, data types, loops, if statements, arrays, and print statements.\n",
    "\n",
    "## How To:\n",
    "\n",
    "Please read the information before running the code cells. If you need any help please contact any of the fellows.\n"
   ]
  },
  {
   "cell_type": "markdown",
   "metadata": {},
   "source": [
    "### 1. Package\n",
    "\n",
    "So... what is a package. It's a set of modules that will help you with your code. It basically says \"let me help you out so you don't have to write everything by scratch\""
   ]
  },
  {
   "cell_type": "markdown",
   "metadata": {},
   "source": [
    "**The following are some examples of useful packages that you can include in your code.**"
   ]
  },
  {
   "cell_type": "code",
   "execution_count": 1,
   "metadata": {},
   "outputs": [
    {
     "ename": "ModuleNotFoundError",
     "evalue": "No module named 'pandas'",
     "output_type": "error",
     "traceback": [
      "\u001b[0;31m---------------------------------------------------------------------------\u001b[0m",
      "\u001b[0;31mModuleNotFoundError\u001b[0m                       Traceback (most recent call last)",
      "\u001b[0;32m/var/folders/0y/cr3bx5390jg6znrdz6dm_xd40000gn/T/ipykernel_58661/2833914573.py\u001b[0m in \u001b[0;36m<module>\u001b[0;34m\u001b[0m\n\u001b[1;32m      2\u001b[0m \u001b[0;32mimport\u001b[0m \u001b[0mpip\u001b[0m\u001b[0;34m\u001b[0m\u001b[0;34m\u001b[0m\u001b[0m\n\u001b[1;32m      3\u001b[0m \u001b[0;32mimport\u001b[0m \u001b[0mnumpy\u001b[0m\u001b[0;34m\u001b[0m\u001b[0;34m\u001b[0m\u001b[0m\n\u001b[0;32m----> 4\u001b[0;31m \u001b[0;32mimport\u001b[0m \u001b[0mpandas\u001b[0m\u001b[0;34m\u001b[0m\u001b[0;34m\u001b[0m\u001b[0m\n\u001b[0m",
      "\u001b[0;31mModuleNotFoundError\u001b[0m: No module named 'pandas'"
     ]
    }
   ],
   "source": [
    "import matplotlib\n",
    "import pip\n",
    "import numpy\n",
    "import pandas"
   ]
  },
  {
   "cell_type": "markdown",
   "metadata": {},
   "source": [
    "Pip -> accomplish installs, uninstalls, updates, etc from the command line​\n",
    "\n",
    "NumPy -> scientific and mathematical computing in Python​\n",
    "\n",
    "Pandas -> data structure, the DataFrame, optimized for tabular, multidimensional, and heterogeneous data​\n",
    "\n",
    "Matplotlib -> creating static, animated, and interactive visualizations in Python"
   ]
  },
  {
   "cell_type": "markdown",
   "metadata": {},
   "source": [
    "### 2. Variables\n",
    "\n",
    "Helps store values."
   ]
  },
  {
   "cell_type": "markdown",
   "metadata": {},
   "source": [
    "Note: in this example we use a \"print\" statement. Print statements are a way of asking the computer to show us what we are asking for. \n",
    "\n",
    "\n",
    "So if i write print(X)-> please show me what X is."
   ]
  },
  {
   "cell_type": "code",
   "execution_count": 2,
   "metadata": {},
   "outputs": [
    {
     "name": "stdout",
     "output_type": "stream",
     "text": [
      "4\n",
      "5\n",
      "Bananas\n"
     ]
    }
   ],
   "source": [
    "X=4\n",
    "Y=5\n",
    "Z=\"Bananas\"\n",
    "\n",
    "print(X)\n",
    "print(Y)\n",
    "print(Z)"
   ]
  },
  {
   "cell_type": "markdown",
   "metadata": {},
   "source": [
    "### 3. Data Types\n",
    "\n",
    "Different types of variables. Helps the variable know what you are giving them.\n",
    "\n",
    "\n",
    "|**Accepts**​|**Name​**|\n",
    "|---|--------|\n",
    "|Text Type:​|str​|\n",
    "|Numeric Types:​|int, float​|\n",
    "|Sequence Types:|list|\n",
    "|Set Types:|set​\n",
    "|Boolean Type:​|bool​|\n",
    "\n"
   ]
  },
  {
   "cell_type": "markdown",
   "metadata": {},
   "source": [
    "#### String Types\n",
    "to declare a string you  use \"quotation marks\". This says that you want a variable to have some text."
   ]
  },
  {
   "cell_type": "code",
   "execution_count": 4,
   "metadata": {},
   "outputs": [],
   "source": [
    "String=\"This is my first string\"\n",
    "print(String)"
   ]
  },
  {
   "cell_type": "markdown",
   "metadata": {},
   "source": [
    "#### Numeric Types\n",
    "There are several different numeric types. We will be talking about 2 of them. \n",
    "\n",
    "1. Integer - An integer is a whole number, positive or negative, without decimals"
   ]
  },
  {
   "cell_type": "code",
   "execution_count": 20,
   "metadata": {},
   "outputs": [
    {
     "name": "stdout",
     "output_type": "stream",
     "text": [
      "5\n",
      "-10\n"
     ]
    }
   ],
   "source": [
    "firstInteger = 5\n",
    "secondInteger = -10\n",
    "\n",
    "print(firstInteger)\n",
    "print(secondInteger)"
   ]
  },
  {
   "cell_type": "markdown",
   "metadata": {},
   "source": [
    "2. Float - represents real numbers. [represented in decimal form]\n",
    "\n",
    "The maximum value of a float is 1.8 x 10^308"
   ]
  },
  {
   "cell_type": "code",
   "execution_count": 21,
   "metadata": {},
   "outputs": [
    {
     "name": "stdout",
     "output_type": "stream",
     "text": [
      "97989899.8945\n",
      "-32.82938748\n"
     ]
    }
   ],
   "source": [
    "firstFloat = 97989899.8945\n",
    "secondFloat = -32.82938748\n",
    "\n",
    "print(firstFloat)\n",
    "print(secondFloat)"
   ]
  },
  {
   "cell_type": "markdown",
   "metadata": {},
   "source": [
    "#### Sequence Types\n",
    "\n",
    "1. List - stores multiple values in a variable\n",
    "\n",
    "                            **ORDERED**"
   ]
  },
  {
   "cell_type": "code",
   "execution_count": 22,
   "metadata": {},
   "outputs": [
    {
     "name": "stdout",
     "output_type": "stream",
     "text": [
      "['apple', 'banana', 'cherry']\n",
      "['4', '11', '2000']\n"
     ]
    }
   ],
   "source": [
    "myFavoriteFruits= [\"apple\", \"banana\", \"cherry\"]\n",
    "print(myFavoriteFruits)\n",
    "\n",
    "myFavoriteNumbers = [\"4\", \"11\", \"2000\"]\n",
    "print(myFavoriteNumbers)"
   ]
  },
  {
   "cell_type": "markdown",
   "metadata": {},
   "source": [
    "#### Set Types\n",
    "\n",
    "1. Set - stores multiple values in a variable\n",
    "\n",
    "                            ** NOT ORDERED**"
   ]
  },
  {
   "cell_type": "code",
   "execution_count": 23,
   "metadata": {},
   "outputs": [
    {
     "name": "stdout",
     "output_type": "stream",
     "text": [
      "{'cherry', 'apple', 'banana'}\n",
      "{'11', '2000', '4'}\n"
     ]
    }
   ],
   "source": [
    "favoriteFruitsSet= {\"apple\", \"banana\", \"cherry\"}\n",
    "print(favoriteFruitsSet)\n",
    "\n",
    "favoriteNumbersSet ={\"4\", \"11\", \"2000\"}\n",
    "print(favoriteNumbersSet)"
   ]
  },
  {
   "cell_type": "markdown",
   "metadata": {},
   "source": [
    "#### Boolean Types\n",
    "\n",
    "1. Bool - represents True or False"
   ]
  },
  {
   "cell_type": "code",
   "execution_count": 24,
   "metadata": {},
   "outputs": [
    {
     "name": "stdout",
     "output_type": "stream",
     "text": [
      "True\n",
      "False\n",
      "False\n"
     ]
    }
   ],
   "source": [
    "print(10 > 9)\n",
    "print(10 == 9)\n",
    "print(10 < 9)"
   ]
  },
  {
   "cell_type": "markdown",
   "metadata": {},
   "source": [
    "### 4. Loops\n",
    "\n",
    "repeating something over and over until a particular condition is satisfied\n",
    "\n",
    "1. For Loops - a loop that iterates through code in its body for a set amount of times until a condition is met\n",
    "\n",
    "If you think about a racecar on a track. The race car will continue going in circles until they can't go."
   ]
  },
  {
   "cell_type": "code",
   "execution_count": 25,
   "metadata": {},
   "outputs": [
    {
     "name": "stdout",
     "output_type": "stream",
     "text": [
      "go\n",
      "go\n",
      "go\n"
     ]
    }
   ],
   "source": [
    "canIGo = [\"go\", \"go\", \"go\"]\n",
    "for x in canIGo:\n",
    "  print(x)"
   ]
  },
  {
   "cell_type": "code",
   "execution_count": 26,
   "metadata": {},
   "outputs": [
    {
     "name": "stdout",
     "output_type": "stream",
     "text": [
      "0\n",
      "1\n",
      "2\n",
      "3\n",
      "4\n",
      "5\n",
      "6\n",
      "7\n"
     ]
    }
   ],
   "source": [
    "# something cool you can do. prints the values 0 to 7\n",
    "\n",
    "for x in range(8):\n",
    "  print(x)"
   ]
  },
  {
   "cell_type": "markdown",
   "metadata": {},
   "source": [
    "2. While loops - execute a set of statements as long as a condition is true."
   ]
  },
  {
   "cell_type": "code",
   "execution_count": 19,
   "metadata": {},
   "outputs": [
    {
     "name": "stdout",
     "output_type": "stream",
     "text": [
      "1\n",
      "2\n",
      "3\n",
      "4\n",
      "5\n"
     ]
    }
   ],
   "source": [
    "# while i is less than 6 this loop will continue. What will happen?\n",
    "i = 1\n",
    "while i < 6:\n",
    "  print(i)\n",
    "  i += 1"
   ]
  },
  {
   "cell_type": "markdown",
   "metadata": {},
   "source": [
    "So the loop starts off with i=1. Then it checks the condition and starts the loop. so when i=1 we print the value of i and then add 1 to i. So now i=2. Now we repeat. so when i=2, we print the value of i and then add 1 to i. so now i=3. we repeat the same thing until i=6.\n",
    "\n",
    "\n",
    "**So the outcome is 1 2 3 4 5**"
   ]
  },
  {
   "cell_type": "markdown",
   "metadata": {},
   "source": [
    "### 5. If Statements\n",
    "\n",
    "Very similar to a loop but only happens once if the condition is valid."
   ]
  },
  {
   "cell_type": "code",
   "execution_count": 27,
   "metadata": {},
   "outputs": [
    {
     "name": "stdout",
     "output_type": "stream",
     "text": [
      "a is not equal to b\n",
      "a is less than b\n",
      "a is less than or equal to b\n"
     ]
    }
   ],
   "source": [
    "#Let's say a is 10 and b is 15\n",
    "a =10\n",
    "b=15\n",
    "\n",
    "if (a==b):\n",
    "    print(\"a equals b\")\n",
    "\n",
    "if a != b:\n",
    "    print(\"a is not equal to b\")\n",
    "\n",
    "if a < b:\n",
    "    print(\"a is less than b\")\n",
    "\n",
    "if a <= b:\n",
    "    print(\"a is less than or equal to b\")\n",
    "\n",
    "if a > b:\n",
    "    print(\"a is greater than b\")\n",
    "\n",
    "if a >= b:\n",
    "    print(\"a is greater than or equal to b\")\n"
   ]
  }
 ],
 "metadata": {
  "interpreter": {
   "hash": "aee8b7b246df8f9039afb4144a1f6fd8d2ca17a180786b69acc140d282b71a49"
  },
  "kernelspec": {
   "display_name": "Python 3.9.7 64-bit",
   "language": "python",
   "name": "python3"
  },
  "language_info": {
   "codemirror_mode": {
    "name": "ipython",
    "version": 3
   },
   "file_extension": ".py",
   "mimetype": "text/x-python",
   "name": "python",
   "nbconvert_exporter": "python",
   "pygments_lexer": "ipython3",
   "version": "3.9.7"
  },
  "orig_nbformat": 4
 },
 "nbformat": 4,
 "nbformat_minor": 2
}
