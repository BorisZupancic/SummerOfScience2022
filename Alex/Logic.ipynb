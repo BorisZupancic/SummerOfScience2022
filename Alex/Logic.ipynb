{
 "cells": [
  {
   "cell_type": "code",
   "execution_count": 1,
   "metadata": {},
   "outputs": [],
   "source": [
    "import numpy as np\n",
    "from bit_helper import *"
   ]
  },
  {
   "cell_type": "markdown",
   "metadata": {},
   "source": [
    "## Exclusive OR (XOR)"
   ]
  },
  {
   "cell_type": "code",
   "execution_count": 2,
   "metadata": {},
   "outputs": [
    {
     "name": "stdout",
     "output_type": "stream",
     "text": [
      "XOR_solution(0, 0) = (0)\n",
      "XOR_solution(1, 0) = (1)\n",
      "XOR_solution(1, 0) = (1)\n",
      "XOR_solution(1, 1) = (0)\n"
     ]
    }
   ],
   "source": [
    "truth_table(XOR_solution)"
   ]
  },
  {
   "cell_type": "code",
   "execution_count": 3,
   "metadata": {},
   "outputs": [
    {
     "name": "stdout",
     "output_type": "stream",
     "text": [
      "XOR(0, 0) = (0)\n",
      "XOR(1, 0) = (0)\n",
      "XOR(1, 0) = (0)\n",
      "XOR(1, 1) = (0)\n"
     ]
    }
   ],
   "source": [
    "def XOR(a, b):\n",
    "    out = False  # replace 'False' with your code here\n",
    "    return out\n",
    "\n",
    "truth_table(XOR)"
   ]
  },
  {
   "cell_type": "markdown",
   "metadata": {},
   "source": [
    "## Addition"
   ]
  },
  {
   "cell_type": "code",
   "execution_count": 4,
   "metadata": {},
   "outputs": [
    {
     "name": "stdout",
     "output_type": "stream",
     "text": [
      "add_solution(0, 0) = (0, 0)\n",
      "add_solution(1, 0) = (1, 0)\n",
      "add_solution(1, 0) = (1, 0)\n",
      "add_solution(1, 1) = (0, 1)\n"
     ]
    }
   ],
   "source": [
    "truth_table(add_solution)"
   ]
  },
  {
   "cell_type": "code",
   "execution_count": 5,
   "metadata": {},
   "outputs": [
    {
     "name": "stdout",
     "output_type": "stream",
     "text": [
      "add(0, 0) = (0, 0)\n",
      "add(1, 0) = (0, 0)\n",
      "add(1, 0) = (0, 0)\n",
      "add(1, 1) = (0, 0)\n",
      "1 + 1 = 0\n"
     ]
    }
   ],
   "source": [
    "def add(a, b):\n",
    "    bit0 = False\n",
    "    bit1 = False\n",
    "    return (bit0, bit1)\n",
    "\n",
    "truth_table(add)"
   ]
  },
  {
   "cell_type": "code",
   "execution_count": 6,
   "metadata": {},
   "outputs": [
    {
     "name": "stdout",
     "output_type": "stream",
     "text": [
      "full_add_solution(0, 0, 0) = (0, 0)\n",
      "full_add_solution(1, 0, 0) = (1, 0)\n",
      "full_add_solution(1, 0, 0) = (1, 0)\n",
      "full_add_solution(1, 1, 0) = (0, 1)\n",
      "full_add_solution(1, 1, 0) = (0, 1)\n",
      "full_add_solution(1, 1, 0) = (0, 1)\n",
      "full_add_solution(1, 1, 0) = (0, 1)\n",
      "full_add_solution(1, 1, 1) = (1, 1)\n"
     ]
    }
   ],
   "source": [
    "truth_table(full_add_solution)"
   ]
  },
  {
   "cell_type": "code",
   "execution_count": 7,
   "metadata": {},
   "outputs": [
    {
     "name": "stdout",
     "output_type": "stream",
     "text": [
      "full_add(0, 0, 0) = (0, 0)\n",
      "full_add(1, 0, 0) = (0, 0)\n",
      "full_add(1, 0, 0) = (0, 0)\n",
      "full_add(1, 1, 0) = (0, 0)\n",
      "full_add(1, 1, 0) = (0, 0)\n",
      "full_add(1, 1, 0) = (0, 0)\n",
      "full_add(1, 1, 0) = (0, 0)\n",
      "full_add(1, 1, 1) = (0, 0)\n"
     ]
    }
   ],
   "source": [
    "def full_add(a, b, c):\n",
    "    x, y = add(a, b)\n",
    "    bit0 = False\n",
    "    bit1 = False\n",
    "    return (bit0, bit1)\n",
    "\n",
    "truth_table(full_add)"
   ]
  },
  {
   "cell_type": "markdown",
   "metadata": {},
   "source": [
    "### BONUS - Make a function that adds two 4-bit numbers"
   ]
  },
  {
   "cell_type": "code",
   "execution_count": 8,
   "metadata": {},
   "outputs": [
    {
     "name": "stdout",
     "output_type": "stream",
     "text": [
      "101 + 10 = [False False  True False False]\n",
      "5 + 2 = 4\n"
     ]
    }
   ],
   "source": [
    "bits0 = int_to_binary(5, length=4)\n",
    "bits1 = int_to_binary(2, length=4)\n",
    "\n",
    "answer = add_multi_solution(bits0, bits1)\n",
    "print(f'{5:b} + {2:b} = {answer}')\n",
    "print(f'5 + 2 = {binary_to_int(answer)}')"
   ]
  },
  {
   "cell_type": "code",
   "execution_count": null,
   "metadata": {},
   "outputs": [],
   "source": [
    "def add_multi(bits0, bits1):\n",
    "    pass"
   ]
  }
 ],
 "metadata": {
  "interpreter": {
   "hash": "8642c66b4f47649d7f5a25da2e8134e3ce0e2a31247a150577f62ecb8ecbf1c2"
  },
  "kernelspec": {
   "display_name": "Python 3 (ipykernel)",
   "language": "python",
   "name": "python3"
  },
  "language_info": {
   "codemirror_mode": {
    "name": "ipython",
    "version": 3
   },
   "file_extension": ".py",
   "mimetype": "text/x-python",
   "name": "python",
   "nbconvert_exporter": "python",
   "pygments_lexer": "ipython3",
   "version": "3.9.3"
  }
 },
 "nbformat": 4,
 "nbformat_minor": 4
}
