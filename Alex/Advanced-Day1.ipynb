{
 "cells": [
  {
   "cell_type": "markdown",
   "id": "a97b7b36-c5c1-4855-9c9d-389f71deb0f0",
   "metadata": {},
   "source": [
    "# Coding Concepts\n",
    "\n",
    "Hello! This notebook is going to show you how to work in Python.\n",
    "\n",
    "## The basics\n",
    "\n",
    "Python is one of the most popular languages in physics. We're going to use Python in what's called a Jupyter notebook. It's like a Word document that lets you write code inside it. Jupyter notebooks are divided into \"cells\" - boxes that contain either raw text, rich text, or code. \n",
    "\n",
    "#### Example"
   ]
  },
  {
   "cell_type": "raw",
   "id": "f5cfb9bb-63d4-42b4-83f6-daa204f31821",
   "metadata": {},
   "source": [
    "This is a cell of raw text. It's monospaced, and doesn't have any code or formatting."
   ]
  },
  {
   "cell_type": "markdown",
   "id": "491343e4-c104-4f16-a7e6-c127e8e687af",
   "metadata": {},
   "source": [
    "This is a cell of rich text, written in a language called Markdown. It lets you add \n",
    "- lists,\n",
    "- *italics*, \n",
    "- **bold** text, \n",
    "\n",
    "and other fancy effects to your notebook. \n",
    "\n",
    "You can double-click this cell to see how Markdown works, but you don't need to use it if you don't want to."
   ]
  },
  {
   "cell_type": "code",
   "execution_count": 1,
   "id": "31ec4cae-7f71-485e-b30a-d1a57b13aea6",
   "metadata": {},
   "outputs": [
    {
     "name": "stdout",
     "output_type": "stream",
     "text": [
      "This is a cell of code, written in Python!\n"
     ]
    }
   ],
   "source": [
    "print('This is a cell of code, written in Python!')"
   ]
  },
  {
   "cell_type": "markdown",
   "id": "2844ce24-4186-42db-a420-557fcafe61c5",
   "metadata": {},
   "source": [
    "## Basic Types\n",
    "\n",
    "Python has four basic types: bools, ints, floats, and strings."
   ]
  },
  {
   "cell_type": "code",
   "execution_count": 2,
   "id": "e179f1a7-e044-4bf5-92ea-86c1dff1043f",
   "metadata": {},
   "outputs": [],
   "source": [
    "boolean = True\n",
    "integer = 4\n",
    "decimal = 4.0\n",
    "string = \"A bit of text\""
   ]
  },
  {
   "cell_type": "markdown",
   "id": "b0429129-9801-4298-96b2-4c1f77afbd74",
   "metadata": {},
   "source": [
    "You can convert objects from one type to another using Python's built-in type conversion methods. You can tell what type an object is using the *type()* function."
   ]
  },
  {
   "cell_type": "code",
   "execution_count": 3,
   "id": "d0e14e50-6da5-44de-919d-5ab2862fe595",
   "metadata": {},
   "outputs": [
    {
     "name": "stdout",
     "output_type": "stream",
     "text": [
      "<class 'int'>\n",
      "a + a = 8\n",
      "<class 'str'>\n",
      "b + b = 44\n"
     ]
    }
   ],
   "source": [
    "a = 4\n",
    "print(type(a))\n",
    "print(f'a + a = {a + a}')\n",
    "\n",
    "b = str(a)\n",
    "print(type(b))\n",
    "print(f'b + b = {b + b}')"
   ]
  },
  {
   "cell_type": "markdown",
   "id": "d06c44ab-6f1d-4b5f-a5d5-a461b53ba6e7",
   "metadata": {},
   "source": [
    "Python is a weakly-typed language, meaning that you don't have to decide what the type of a variable is ahead of time. You can reassign any variable from one type to another if you please. This makes coding easy, but can get a bit confusing sometimes."
   ]
  },
  {
   "cell_type": "code",
   "execution_count": 4,
   "id": "fab561d4-541d-4f72-bcbb-af452351dab3",
   "metadata": {},
   "outputs": [
    {
     "name": "stdout",
     "output_type": "stream",
     "text": [
      "2.0\n"
     ]
    },
    {
     "ename": "TypeError",
     "evalue": "unsupported operand type(s) for /: 'str' and 'int'",
     "output_type": "error",
     "traceback": [
      "\u001b[0;31m---------------------------------------------------------------------------\u001b[0m",
      "\u001b[0;31mTypeError\u001b[0m                                 Traceback (most recent call last)",
      "Input \u001b[0;32mIn [4]\u001b[0m, in \u001b[0;36m<cell line: 4>\u001b[0;34m()\u001b[0m\n\u001b[1;32m      2\u001b[0m \u001b[38;5;28mprint\u001b[39m(integer \u001b[38;5;241m/\u001b[39m \u001b[38;5;241m2\u001b[39m) \u001b[38;5;66;03m# ok\u001b[39;00m\n\u001b[1;32m      3\u001b[0m integer \u001b[38;5;241m=\u001b[39m \u001b[38;5;28mstr\u001b[39m(integer)\n\u001b[0;32m----> 4\u001b[0m \u001b[38;5;28mprint\u001b[39m(\u001b[43minteger\u001b[49m\u001b[43m \u001b[49m\u001b[38;5;241;43m/\u001b[39;49m\u001b[43m \u001b[49m\u001b[38;5;241;43m2\u001b[39;49m)\n",
      "\u001b[0;31mTypeError\u001b[0m: unsupported operand type(s) for /: 'str' and 'int'"
     ]
    }
   ],
   "source": [
    "integer = 4\n",
    "print(integer / 2) # ok\n",
    "integer = str(integer)\n",
    "print(integer / 2) # not ok"
   ]
  },
  {
   "cell_type": "markdown",
   "id": "5f836593-3804-492f-9335-287a95ad4044",
   "metadata": {},
   "source": [
    "## Complex Types\n",
    "\n",
    "Python also has more complex types that can hold other objects in data structures. Lists are one of these types. They're exactly what they sound like: an ordered list of objects. They're similar to arrays in some other programming languages, except that you can change the size of a list at will, and they can hold values with more than one type."
   ]
  },
  {
   "cell_type": "code",
   "execution_count": 5,
   "id": "f1679f0a-1714-4fad-bf79-2eea00082bc9",
   "metadata": {},
   "outputs": [
    {
     "name": "stdout",
     "output_type": "stream",
     "text": [
      "1\n",
      "2\n",
      "3\n",
      "4\n",
      "and\n",
      "[2, 3]\n",
      "[2, 3, 4]\n",
      "[1, 2, 3]\n",
      "[2, 4]\n",
      "[1, 2, 3, 4, 'a', 'b', 'c', 'd', 'abc', 123]\n",
      "[1, 2, 3, 4, 'a', 'b', 'c', 'd', 'abc', 123, True]\n"
     ]
    }
   ],
   "source": [
    "int_list = [1,2,3,4]\n",
    "str_list = ['a','b','c','d']\n",
    "mixed_list = ['abc', 123]\n",
    "list_of_lists = [ ['this', 'is', 'the', 'first', 'list', 'of', 'words'], ['and', 'this', 'is', 'list', 'number', 2] ]\n",
    "\n",
    "# get the first item from a list\n",
    "# in Python, the first item in a list is number zero, the second item is number one, etc...\n",
    "print(int_list[0])\n",
    "print(int_list[1])\n",
    "print(int_list[2])\n",
    "print(int_list[3])\n",
    "# print the first item from the second list\n",
    "print(list_of_lists[1][0])\n",
    "\n",
    "# you can use colons to get a range of values from a list\n",
    "# the first number is the index to start at, the second number is the index to end at.\n",
    "print(int_list[1:3])\n",
    "print(int_list[1:])\n",
    "print(int_list[:3])\n",
    "\n",
    "# you can even do skip counting!\n",
    "print(int_list[1::2])\n",
    "\n",
    "new_list = int_list + str_list + mixed_list\n",
    "print(new_list)\n",
    "new_list.append(True)\n",
    "print(new_list)"
   ]
  },
  {
   "cell_type": "markdown",
   "id": "b31a952f-eeea-4f17-9d69-dd4295b16256",
   "metadata": {},
   "source": [
    "Dicts are another common Python type. They're used when you want to be able to look up some information that's associated with another value. The value you put into the dictionary is called the 'key'. The information you get back is called the 'value'.\n",
    "\n",
    "Word dictionaries are a really good example for this. Let's say that you forgot what \"cat\" means, and want to look up its meaning:"
   ]
  },
  {
   "cell_type": "code",
   "execution_count": null,
   "id": "831da871-5870-4242-9231-5ceaec320b26",
   "metadata": {},
   "outputs": [],
   "source": [
    "animal_dictionary = {\n",
    "    'cat': 'Small fuzzy creatures who like to think they are better than us.', \n",
    "    'dog': 'Larger fuzzy creatures who are a bit more rambunctious than cats.'\n",
    "}\n",
    "\n",
    "word = 'cat'\n",
    "definition = animal_dictionary[word] # word is the key, definition is the value\n",
    "print(definition)"
   ]
  },
  {
   "cell_type": "markdown",
   "id": "172759e1-2699-49aa-aff7-3c66ed9d70f7",
   "metadata": {},
   "source": [
    "## Logic\n",
    "\n",
    "It's common to want to compute whether some statement is true or false. Logic that mainly deals with the values of True and False is called *boolean logic*. In Python, you can write these types of statements with *logical operators*. The most common of these operators is `==`, which tests whether two objects have the same value.\n",
    "\n",
    "It's important not to confuse the `==` equality operator with the `=` assignment operator. One equals sign is used to assign names to objects, while two equals signs is used to test for equality."
   ]
  },
  {
   "cell_type": "code",
   "execution_count": 18,
   "id": "11fdc026-029f-4d7b-975c-3a3c289049a1",
   "metadata": {},
   "outputs": [
    {
     "name": "stdout",
     "output_type": "stream",
     "text": [
      "True\n",
      "False\n"
     ]
    }
   ],
   "source": [
    "answer = 1 + 1\n",
    "print(answer == 2)\n",
    "print(answer == 3)"
   ]
  },
  {
   "cell_type": "markdown",
   "id": "0a31da86-120f-49b9-95f1-8031aef26c13",
   "metadata": {},
   "source": [
    "Python actually has two equality operators: the `==` comparaison equality operator, and the `is` identity equality operator. They're both useful for different things: `==` tests if two objects have the same value.\n",
    "\n",
    "### i need to find an intuitive example to explain the difference"
   ]
  },
  {
   "cell_type": "markdown",
   "id": "0fc7b050-c4c9-4d2a-bc64-92e04481cbc8",
   "metadata": {},
   "source": [
    "Other operators include the words `and`, `or`, and `not`. Their meaning in Python is about the same as their meaning in English.\n",
    "\n",
    "It's rare that you want to program something that does the exact same thing every time your code is run. You probably want your code to make some sort of decision. The most basic type of decision is made with the *if* statement."
   ]
  },
  {
   "cell_type": "code",
   "execution_count": 19,
   "id": "da24f89e-5983-4ee3-b654-8cb3f82ad893",
   "metadata": {},
   "outputs": [
    {
     "name": "stdout",
     "output_type": "stream",
     "text": [
      "Alex's dog is taller than both of Alex's cats!\n"
     ]
    }
   ],
   "source": [
    "animal_species = {'Kali': 'dog', 'Princess': 'cat', 'Matilda': 'cat'}\n",
    "animal_heights = {'Kali': 60, 'Princess': 25, 'Matilda': 30}  # in cm\n",
    "                  \n",
    "if (animal_heights['Kali'] > animal_heights['Princess']) and (animal_heights['Kali'] > animal_heights['Matilda']):\n",
    "    print(f\"Alex's {animal_species['Kali']} is taller than both of Alex's cats!\")"
   ]
  },
  {
   "cell_type": "markdown",
   "id": "d65820b1-14b2-44f8-bac9-e746e02bac14",
   "metadata": {},
   "source": [
    "A single `if` statement can be combined with an `else` statement. If the code in the `if` statement isn't run , the code in the `else` statement will run instead."
   ]
  },
  {
   "cell_type": "code",
   "execution_count": 21,
   "id": "c19863dd-d340-4d7d-8ea4-f04c51c345a5",
   "metadata": {},
   "outputs": [
    {
     "name": "stdout",
     "output_type": "stream",
     "text": [
      "Yay math works!\n"
     ]
    }
   ],
   "source": [
    "if (1 + 1 == 3):\n",
    "    print('Oh no, math is broken!')\n",
    "else:\n",
    "    print('Yay math works!')"
   ]
  },
  {
   "cell_type": "markdown",
   "id": "28c27104-54ed-4ae5-b816-d4320ac4e522",
   "metadata": {},
   "source": [
    "Sometimes, a single alternative isn't good enough. Your code might have several possible scenarios, and a single `if...else` statement only allows you to write code for two possibilities! In these scenarios, we use an `elif` statement (it's short for \"else if\")."
   ]
  },
  {
   "cell_type": "code",
   "execution_count": 23,
   "id": "fb8d8c8a-ff1d-4bd5-bdda-8476cf34553f",
   "metadata": {},
   "outputs": [
    {
     "name": "stdout",
     "output_type": "stream",
     "text": [
      "Alyssa is Alex's sister!\n"
     ]
    }
   ],
   "source": [
    "family_member = 'Alyssa'\n",
    "\n",
    "if family_member == 'Lora':\n",
    "    print(f\"{family_member} is Alex's mom!\")\n",
    "elif family_member == 'Greg':\n",
    "    print(f\"{family_member} is Alex's dad!\")\n",
    "elif family_member == 'Alyssa':\n",
    "    print(f\"{family_member} is Alex's sister!\")\n",
    "else:\n",
    "    print(f\"{family_member} isn't part of Alex's family!\")"
   ]
  },
  {
   "cell_type": "markdown",
   "id": "e72a24a0-418c-47f2-8a7d-f36af7518b07",
   "metadata": {},
   "source": [
    "## Loops\n",
    "\n",
    "Python supports two types of loops: while loops, and for loops.\n",
    "\n",
    "While loops in Python are similar to while loops in other programming languages. They will repeat a piece of code for as long as some condition is true."
   ]
  },
  {
   "cell_type": "code",
   "execution_count": null,
   "id": "aeb5325b-d574-446d-bae8-582cd7e65bae",
   "metadata": {},
   "outputs": [],
   "source": [
    "n1 = 0\n",
    "n2 = 1\n",
    "while n2 < 6000:\n",
    "    next_number = n1 + n2\n",
    "    print(next_number)\n",
    "    n1 = n2\n",
    "    n2 = next_number"
   ]
  },
  {
   "cell_type": "markdown",
   "id": "7c6fe05b-f1d1-4250-9ef5-259dd66c94f6",
   "metadata": {},
   "source": [
    "For loops let you run some code once for each item in a list. They have the same purpose as in other programming languages, but some languages like C might implement them differently."
   ]
  },
  {
   "cell_type": "code",
   "execution_count": null,
   "id": "bd66dab6-7eb9-4acb-906f-2b94865ea555",
   "metadata": {},
   "outputs": [],
   "source": [
    "animals = ['cat', 'dog', 'moose', 'hippopotamus']\n",
    "for animal in animals:\n",
    "    print(f'{animal} is {len(animal)} letters long.')"
   ]
  },
  {
   "cell_type": "markdown",
   "id": "d0077a05-bf6b-49d5-83f3-54841affb2fc",
   "metadata": {},
   "source": [
    "If you just want to repeat a line of code a certain number of times, you can use Python's built-in range() function."
   ]
  },
  {
   "cell_type": "code",
   "execution_count": null,
   "id": "c36618a7-2b49-44bd-a0d4-a620cce9063e",
   "metadata": {},
   "outputs": [],
   "source": [
    "numbers = []\n",
    "\n",
    "for number in range(10):\n",
    "    print('AAAAAAAA')\n",
    "    numbers.append(number)\n",
    "    \n",
    "print(numbers)"
   ]
  },
  {
   "cell_type": "markdown",
   "id": "86f94a4f-c4a0-43d7-92c1-dc76dc5c13ef",
   "metadata": {},
   "source": [
    "Sometimes you might want your loop to do something different than just running the same instructions on each new loop. For example, you might want to search through a list until you find some item. When you find the item, you probably don't need to keep looking through the rest of the list. This is a time when the *break* keyword comes in handy."
   ]
  },
  {
   "cell_type": "code",
   "execution_count": 9,
   "id": "69ed400b-a9ef-4c8e-b7de-d15538148e49",
   "metadata": {},
   "outputs": [
    {
     "name": "stdout",
     "output_type": "stream",
     "text": [
      "Who ate the classroom goldfish yesterday?!?!?!\n",
      "It couldn't have been Vanessa the Vegan.\n",
      "It couldn't have been Victor the Vegetarian.\n",
      "Mr. Skittles the Cat must've eaten the classroom goldfish!\n",
      "Case closed!\n"
     ]
    }
   ],
   "source": [
    "print('Who ate the classroom goldfish yesterday after school???')\n",
    "\n",
    "students = ['Vanessa the Vegan', 'Victor the Vegetarian', 'Mr. Skittles the Cat', \"Bob the Guy Who Wasn't Here Yesterday\"]\n",
    "\n",
    "for student in students:\n",
    "    if 'Vegan' in student or 'Vegetarian' in student:\n",
    "        print(f\"It couldn't have been {student}.\")\n",
    "    else:\n",
    "        print(f\"{student} must've eaten the classroom goldfish!\")\n",
    "        break\n",
    "        \n",
    "print('Case closed!')"
   ]
  },
  {
   "cell_type": "markdown",
   "id": "526f1116-84f7-456f-a273-0c9f59bf6a3a",
   "metadata": {},
   "source": [
    "As you can see, *break* ends the loop's execution early. It skips iterating through the rest of the items, and avoids accusing Bob despite the fact that he isn't a vegetarian or vegan. But what if we didn't want to skip the rest of the items in the loop, and just wanted to skip over one item? This is when the *continue* statement is useful."
   ]
  },
  {
   "cell_type": "code",
   "execution_count": 16,
   "id": "05f48e31-c1ba-46eb-a435-1964aa4231d8",
   "metadata": {},
   "outputs": [
    {
     "name": "stdout",
     "output_type": "stream",
     "text": [
      "These are all the people who have cats!\n",
      "Alex has 5 pets!\n",
      "Maddy has 2 pets!\n"
     ]
    }
   ],
   "source": [
    "numbers_of_cats = {'Alex': 5, 'Boris': 0, 'Maddy': 2}\n",
    "print('These are all the people who have cats!')\n",
    "\n",
    "for name in numbers_of_cats:\n",
    "    number = numbers_of_cats[name]\n",
    "    \n",
    "    if number == 0:\n",
    "        continue\n",
    "    \n",
    "    print(f'{name} has {number} pets!')"
   ]
  },
  {
   "cell_type": "markdown",
   "id": "3987cf91-88e8-4d94-be9a-09d31405f534",
   "metadata": {},
   "source": [
    "As you can see, the continue statement skipped the rest of the code so that Boris's name wasn't printed, but didn't stop the loop from continuing on to Maddy."
   ]
  },
  {
   "cell_type": "code",
   "execution_count": null,
   "id": "fde5752b-a765-4ca5-b9fa-25c56ea3e801",
   "metadata": {},
   "outputs": [],
   "source": []
  }
 ],
 "metadata": {
  "kernelspec": {
   "display_name": "Python 3",
   "language": "python",
   "name": "python3"
  },
  "language_info": {
   "codemirror_mode": {
    "name": "ipython",
    "version": 3
   },
   "file_extension": ".py",
   "mimetype": "text/x-python",
   "name": "python",
   "nbconvert_exporter": "python",
   "pygments_lexer": "ipython3",
   "version": "3.9.12"
  }
 },
 "nbformat": 4,
 "nbformat_minor": 5
}
