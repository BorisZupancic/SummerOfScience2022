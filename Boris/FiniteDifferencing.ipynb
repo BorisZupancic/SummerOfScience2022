{
 "cells": [
  {
   "cell_type": "markdown",
   "metadata": {},
   "source": [
    "# Intro to Numerical Methods:\n",
    "### Finite Differencing and Understanding Velocities and Accelerations"
   ]
  },
  {
   "cell_type": "code",
   "execution_count": 12,
   "metadata": {},
   "outputs": [
    {
     "name": "stdout",
     "output_type": "stream",
     "text": [
      "c:\\Users\\boris\\OneDrive - Queen's University\\Documents\\JOB_Files\\McDonald Institute Fellowship\\SummerOfScience2022\\Boris\n"
     ]
    },
    {
     "ename": "OSError",
     "evalue": "c:\\Users\\boris\\OneDrive - Queen's University\\Documents\\JOB_Files\\McDonald Institute Fellowship\\SummerOfScience2022\\Boris\\4.18mm\\Day6_4_18mm_Droplet(1).csv not found.",
     "output_type": "error",
     "traceback": [
      "\u001b[1;31m---------------------------------------------------------------------------\u001b[0m",
      "\u001b[1;31mOSError\u001b[0m                                   Traceback (most recent call last)",
      "\u001b[1;32mc:\\Users\\boris\\OneDrive - Queen's University\\Documents\\JOB_Files\\McDonald Institute Fellowship\\SummerOfScience2022\\Boris\\FiniteDifferencing.ipynb Cell 2'\u001b[0m in \u001b[0;36m<cell line: 10>\u001b[1;34m()\u001b[0m\n\u001b[0;32m      <a href='vscode-notebook-cell:/c%3A/Users/boris/OneDrive%20-%20Queen%27s%20University/Documents/JOB_Files/McDonald%20Institute%20Fellowship/SummerOfScience2022/Boris/FiniteDifferencing.ipynb#ch0000001?line=7'>8</a>\u001b[0m \u001b[39m#print(os.curdir)\u001b[39;00m\n\u001b[0;32m      <a href='vscode-notebook-cell:/c%3A/Users/boris/OneDrive%20-%20Queen%27s%20University/Documents/JOB_Files/McDonald%20Institute%20Fellowship/SummerOfScience2022/Boris/FiniteDifferencing.ipynb#ch0000001?line=8'>9</a>\u001b[0m path \u001b[39m=\u001b[39m cwd \u001b[39m+\u001b[39m \u001b[39m\"\u001b[39m\u001b[39m\\\\\u001b[39;00m\u001b[39m4.18mm\u001b[39m\u001b[39m\\\\\u001b[39;00m\u001b[39mDay6_4_18mm_Droplet(1).csv\u001b[39m\u001b[39m\"\u001b[39m\n\u001b[1;32m---> <a href='vscode-notebook-cell:/c%3A/Users/boris/OneDrive%20-%20Queen%27s%20University/Documents/JOB_Files/McDonald%20Institute%20Fellowship/SummerOfScience2022/Boris/FiniteDifferencing.ipynb#ch0000001?line=9'>10</a>\u001b[0m data \u001b[39m=\u001b[39m np\u001b[39m.\u001b[39;49mloadtxt(path, dtype \u001b[39m=\u001b[39;49m \u001b[39mfloat\u001b[39;49m, delimiter \u001b[39m=\u001b[39;49m \u001b[39m\"\u001b[39;49m\u001b[39m,\u001b[39;49m\u001b[39m\"\u001b[39;49m)\n\u001b[0;32m     <a href='vscode-notebook-cell:/c%3A/Users/boris/OneDrive%20-%20Queen%27s%20University/Documents/JOB_Files/McDonald%20Institute%20Fellowship/SummerOfScience2022/Boris/FiniteDifferencing.ipynb#ch0000001?line=11'>12</a>\u001b[0m frame \u001b[39m=\u001b[39m data[:,\u001b[39m0\u001b[39m]\n\u001b[0;32m     <a href='vscode-notebook-cell:/c%3A/Users/boris/OneDrive%20-%20Queen%27s%20University/Documents/JOB_Files/McDonald%20Institute%20Fellowship/SummerOfScience2022/Boris/FiniteDifferencing.ipynb#ch0000001?line=12'>13</a>\u001b[0m x \u001b[39m=\u001b[39m data[:,\u001b[39m1\u001b[39m]\n",
      "File \u001b[1;32mc:\\Users\\boris\\anaconda3\\lib\\site-packages\\numpy\\lib\\npyio.py:1065\u001b[0m, in \u001b[0;36mloadtxt\u001b[1;34m(fname, dtype, comments, delimiter, converters, skiprows, usecols, unpack, ndmin, encoding, max_rows, like)\u001b[0m\n\u001b[0;32m   1063\u001b[0m     fname \u001b[39m=\u001b[39m os_fspath(fname)\n\u001b[0;32m   1064\u001b[0m \u001b[39mif\u001b[39;00m _is_string_like(fname):\n\u001b[1;32m-> 1065\u001b[0m     fh \u001b[39m=\u001b[39m np\u001b[39m.\u001b[39;49mlib\u001b[39m.\u001b[39;49m_datasource\u001b[39m.\u001b[39;49mopen(fname, \u001b[39m'\u001b[39;49m\u001b[39mrt\u001b[39;49m\u001b[39m'\u001b[39;49m, encoding\u001b[39m=\u001b[39;49mencoding)\n\u001b[0;32m   1066\u001b[0m     fencoding \u001b[39m=\u001b[39m \u001b[39mgetattr\u001b[39m(fh, \u001b[39m'\u001b[39m\u001b[39mencoding\u001b[39m\u001b[39m'\u001b[39m, \u001b[39m'\u001b[39m\u001b[39mlatin1\u001b[39m\u001b[39m'\u001b[39m)\n\u001b[0;32m   1067\u001b[0m     fh \u001b[39m=\u001b[39m \u001b[39miter\u001b[39m(fh)\n",
      "File \u001b[1;32mc:\\Users\\boris\\anaconda3\\lib\\site-packages\\numpy\\lib\\_datasource.py:194\u001b[0m, in \u001b[0;36mopen\u001b[1;34m(path, mode, destpath, encoding, newline)\u001b[0m\n\u001b[0;32m    157\u001b[0m \u001b[39m\"\"\"\u001b[39;00m\n\u001b[0;32m    158\u001b[0m \u001b[39mOpen `path` with `mode` and return the file object.\u001b[39;00m\n\u001b[0;32m    159\u001b[0m \n\u001b[1;32m   (...)\u001b[0m\n\u001b[0;32m    190\u001b[0m \n\u001b[0;32m    191\u001b[0m \u001b[39m\"\"\"\u001b[39;00m\n\u001b[0;32m    193\u001b[0m ds \u001b[39m=\u001b[39m DataSource(destpath)\n\u001b[1;32m--> 194\u001b[0m \u001b[39mreturn\u001b[39;00m ds\u001b[39m.\u001b[39;49mopen(path, mode, encoding\u001b[39m=\u001b[39;49mencoding, newline\u001b[39m=\u001b[39;49mnewline)\n",
      "File \u001b[1;32mc:\\Users\\boris\\anaconda3\\lib\\site-packages\\numpy\\lib\\_datasource.py:531\u001b[0m, in \u001b[0;36mDataSource.open\u001b[1;34m(self, path, mode, encoding, newline)\u001b[0m\n\u001b[0;32m    528\u001b[0m     \u001b[39mreturn\u001b[39;00m _file_openers[ext](found, mode\u001b[39m=\u001b[39mmode,\n\u001b[0;32m    529\u001b[0m                               encoding\u001b[39m=\u001b[39mencoding, newline\u001b[39m=\u001b[39mnewline)\n\u001b[0;32m    530\u001b[0m \u001b[39melse\u001b[39;00m:\n\u001b[1;32m--> 531\u001b[0m     \u001b[39mraise\u001b[39;00m \u001b[39mIOError\u001b[39;00m(\u001b[39m\"\u001b[39m\u001b[39m%s\u001b[39;00m\u001b[39m not found.\u001b[39m\u001b[39m\"\u001b[39m \u001b[39m%\u001b[39m path)\n",
      "\u001b[1;31mOSError\u001b[0m: c:\\Users\\boris\\OneDrive - Queen's University\\Documents\\JOB_Files\\McDonald Institute Fellowship\\SummerOfScience2022\\Boris\\4.18mm\\Day6_4_18mm_Droplet(1).csv not found."
     ]
    }
   ],
   "source": [
    "import numpy as np\n",
    "import matplotlib.pyplot as plt\n",
    "import os\n",
    "\n",
    "cwd = os.getcwd()\n",
    "print(cwd)\n",
    "\n",
    "#print(os.curdir)\n",
    "path = cwd + \"\\\\4.18mm\\\\Day6_4_18mm_Droplet(1).csv\"\n",
    "data = np.loadtxt(path, dtype = float, delimiter = \",\")\n",
    "\n",
    "frame = data[:,0]\n",
    "x = data[:,1]\n",
    "y = data[:,2]\n",
    "\n",
    "plt.plot(x,y)\n",
    "plt.show()"
   ]
  },
  {
   "cell_type": "code",
   "execution_count": null,
   "metadata": {},
   "outputs": [],
   "source": []
  }
 ],
 "metadata": {
  "kernelspec": {
   "display_name": "Python 3.8.5 ('base')",
   "language": "python",
   "name": "python3"
  },
  "language_info": {
   "codemirror_mode": {
    "name": "ipython",
    "version": 3
   },
   "file_extension": ".py",
   "mimetype": "text/x-python",
   "name": "python",
   "nbconvert_exporter": "python",
   "pygments_lexer": "ipython3",
   "version": "3.8.5"
  },
  "orig_nbformat": 4,
  "vscode": {
   "interpreter": {
    "hash": "409cb10135459753126049d64625707f5cb8ea2463a0e9ed5c065bfd1d24c76f"
   }
  }
 },
 "nbformat": 4,
 "nbformat_minor": 2
}
